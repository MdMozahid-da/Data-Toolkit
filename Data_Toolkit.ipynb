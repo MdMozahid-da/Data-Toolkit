{
  "nbformat": 4,
  "nbformat_minor": 0,
  "metadata": {
    "colab": {
      "provenance": []
    },
    "kernelspec": {
      "name": "python3",
      "display_name": "Python 3"
    },
    "language_info": {
      "name": "python"
    }
  },
  "cells": [
    {
      "cell_type": "markdown",
      "source": [
        "#Data Toolkit"
      ],
      "metadata": {
        "id": "X5n7UE1A2XYp"
      }
    },
    {
      "cell_type": "markdown",
      "source": [
        "1. What is NumPy, and why is it widely used in Python?\n",
        " - NumPy, short for Numerical Python, is a fundamental package for scientific computing in Python. It provides support for large, multi-dimensional arrays and matrices, along with a rich collection of mathematical functions to operate on these arrays. It's widely used for its efficiency, powerful features, and seamless integration with other libraries."
      ],
      "metadata": {
        "id": "0WRRHREb2dDt"
      }
    },
    {
      "cell_type": "markdown",
      "source": [
        "2. How does broadcasting work in NumPy?\n",
        " - Broadcasting allows NumPy to perform element-wise operations on arrays of different shapes. It stretches the smaller array along the larger array's shape to make their dimensions compatible. This makes computations more efficient and reduces the need for explicit looping.\n"
      ],
      "metadata": {
        "id": "KCeSVYI62pRS"
      }
    },
    {
      "cell_type": "markdown",
      "source": [
        "3. What is a Pandas DataFrame?\n",
        " - A Pandas DataFrame is a two-dimensional, size-mutable, and potentially heterogeneous tabular data structure with labeled axes (rows and columns). It is similar to a table in a database or an Excel spreadsheet and is a core data structure in the Pandas library, used for data manipulation and analysis.\n"
      ],
      "metadata": {
        "id": "haQOkkEc2shx"
      }
    },
    {
      "cell_type": "markdown",
      "source": [
        "4. Explain the use of the groupby() method in Pandas.\n",
        " - The groupby() method in Pandas is used to split data into groups based on some criteria. Once the data is split, we can apply various aggregation functions (e.g., sum, mean) to each group independently, making it easy to analyze and summarize data.\n"
      ],
      "metadata": {
        "id": "PkrbakrB2vBy"
      }
    },
    {
      "cell_type": "markdown",
      "source": [
        "5. Why is Seaborn preferred for statistical visualizations?\n",
        " - Seaborn is preferred for statistical visualizations because it provides high-level interface for drawing attractive and informative statistical graphics. It is built on top of Matplotlib and integrates well with Pandas DataFrames. Seaborn simplifies the process of creating complex visualizations like heatmaps, violin plots, and pair plots."
      ],
      "metadata": {
        "id": "_QTHNXi02xDK"
      }
    },
    {
      "cell_type": "markdown",
      "source": [
        "6. What are the differences between NumPy arrays and Python lists?\n",
        "\n",
        " - NumPy arrays are more efficient for numerical computations due to their fixed size and homogenous data type.\n",
        "\n",
        "    NumPy arrays support element-wise operations, whereas Python lists do not.\n",
        "\n",
        "    NumPy arrays offer advanced broadcasting, slicing, and vectorized operations, enhancing performance and productivity.\n"
      ],
      "metadata": {
        "id": "8kN6alTj2z7y"
      }
    },
    {
      "cell_type": "markdown",
      "source": [
        "7. What is a heatmap, and when should it be used?\n",
        " - A heatmap is a graphical representation of data where individual values are represented as colors. Heatmaps are useful for visualizing the intensity of data across two dimensions and are commonly used in correlation matrices, geographical data, and visualizing clustering results.\n"
      ],
      "metadata": {
        "id": "uRIdZefZ25ga"
      }
    },
    {
      "cell_type": "markdown",
      "source": [
        "8. What does the term “vectorized operation” mean in NumPy?\n",
        " - Vectorized operations refer to performing element-wise computations on entire arrays without explicit loops. These operations leverage low-level optimizations and hardware acceleration, making them significantly faster and more efficient than traditional looping methods.\n"
      ],
      "metadata": {
        "id": "RolHoeup29vi"
      }
    },
    {
      "cell_type": "markdown",
      "source": [
        "9. How does Matplotlib differ from Plotly?\n",
        "\n",
        " - Matplotlib is a static plotting library, ideal for creating publication-quality charts and visualizations.\n",
        "\n",
        "    Plotly, on the other hand, is an interactive plotting library that supports zooming, panning, and real-time data updates. Plotly is more suitable for web applications and interactive dashboards."
      ],
      "metadata": {
        "id": "yarzluAX3FLy"
      }
    },
    {
      "cell_type": "markdown",
      "source": [
        "10. What is the significance of hierarchical indexing in Pandas?\n",
        " - Hierarchical indexing allows for multi-level indexing of data, enabling us to work with data in a more flexible and powerful way. It is particularly useful for working with higher-dimensional data in a two-dimensional DataFrame, allowing for easier selection, aggregation, and reshaping."
      ],
      "metadata": {
        "id": "Aw1nFoNB3J8i"
      }
    },
    {
      "cell_type": "markdown",
      "source": [
        "11. What is the role of Seaborn’s pairplot() function?\n",
        " - The pairplot() function in Seaborn creates a matrix of scatter plots (and optionally histograms or KDE plots) for each pair of variables in a dataset. It is useful for exploring relationships between variables and identifying patterns or correlations."
      ],
      "metadata": {
        "id": "uZNVQc2g3M66"
      }
    },
    {
      "cell_type": "markdown",
      "source": [
        "12. What is the purpose of the describe() function in Pandas?\n",
        " - The describe() function in Pandas generates descriptive statistics for numerical columns in a DataFrame. It provides a summary of central tendency, dispersion, and shape of the dataset’s distribution, including metrics like mean, median, standard deviation, and quartiles.\n"
      ],
      "metadata": {
        "id": "Xj5dxRHr3O-x"
      }
    },
    {
      "cell_type": "markdown",
      "source": [
        "13. Why is handling missing data important in Pandas?\n",
        " - Handling missing data is crucial because it can lead to inaccurate analyses, misleading results, and biases in the model. Pandas provides various methods to detect, remove, or impute missing values, ensuring the integrity and reliability of the dataset."
      ],
      "metadata": {
        "id": "aC_chHcx3Rd5"
      }
    },
    {
      "cell_type": "markdown",
      "source": [
        "14. What are the benefits of using Plotly for data visualization?\n",
        "\n",
        " - Interactive visualizations with zooming, panning, and tooltips.\n",
        "\n",
        "     Supports a wide range of chart types and 3D plots.\n",
        "\n",
        "     Seamless integration with web applications and Jupyter notebooks.\n",
        "\n",
        "     Easy to create and share dashboards and reports.\n"
      ],
      "metadata": {
        "id": "JoRHe6G93Ufq"
      }
    },
    {
      "cell_type": "markdown",
      "source": [
        "15. How does NumPy handle multidimensional arrays?\n",
        " - NumPy efficiently handles multidimensional arrays using the ndarray object. It supports advanced indexing, slicing, and reshaping operations, allowing for flexible manipulation of multi-dimensional data. NumPy also provides functions for mathematical operations across different axes.\n"
      ],
      "metadata": {
        "id": "k3fH8dLU3dtR"
      }
    },
    {
      "cell_type": "markdown",
      "source": [
        "16. What is the role of Bokeh in data visualization?\n",
        " - Bokeh is a powerful interactive visualization library for creating web-based dashboards and plots. It offers a high-level interface for creating visually appealing and interactive plots, making it easy to build complex visualizations and integrate them into web applications.\n"
      ],
      "metadata": {
        "id": "3YKmA9qY3hdB"
      }
    },
    {
      "cell_type": "markdown",
      "source": [
        "17. Explain the difference between apply() and map() in Pandas.\n",
        "\n",
        " - apply() is used to apply a function along an axis (rows or columns) of the DataFrame. It is versatile and can be used for both element-wise and aggregate operations.\n",
        "\n",
        "     map() is used for element-wise transformations on a Series (or DataFrame if applymap() is used). It is typically used to replace or modify values in a Series."
      ],
      "metadata": {
        "id": "8tAmBTuu3mJa"
      }
    },
    {
      "cell_type": "markdown",
      "source": [
        "18. What are some advanced features of NumPy?\n",
        "\n",
        " - Broadcasting for efficient computation on arrays of different shapes.\n",
        "\n",
        "     Linear algebra functions (linalg module) for matrix operations.\n",
        "\n",
        "     Fourier transform capabilities for signal processing.\n",
        "\n",
        "     Random number generation for simulations and statistical modeling.\n",
        "     \n",
        "     Support for masked arrays, enabling operations on incomplete or invalid data."
      ],
      "metadata": {
        "id": "pWLOFAdk3qzZ"
      }
    },
    {
      "cell_type": "markdown",
      "source": [
        "19. How does Pandas simplify time series analysis?\n",
        " - Pandas simplifies time series analysis with dedicated data structures (DatetimeIndex, PeriodIndex, TimedeltaIndex) and functions for date parsing, resampling, shifting, and rolling window calculations. It also supports time zone handling, frequency conversion, and datetime operations, making it a powerful tool for working with time series data.\n"
      ],
      "metadata": {
        "id": "p3GDRhcm4APZ"
      }
    },
    {
      "cell_type": "markdown",
      "source": [
        "20. What is the role of a pivot table in Pandas?\n",
        "- A pivot table in Pandas is used to summarize and aggregate data, transforming it from a long format to a wide format. It allows for easy grouping, aggregation, and reshaping of data, making it easier to analyze and interpret complex datasets."
      ],
      "metadata": {
        "id": "C5znnM0t4Kl5"
      }
    },
    {
      "cell_type": "markdown",
      "source": [
        "21. Why is NumPy’s array slicing faster than Python’s list slicing?\n",
        " - NumPy’s array slicing is faster because NumPy arrays are implemented in C, allowing for efficient memory access and optimized computations. Slicing a NumPy array returns a view of the original array, avoiding data copying and enhancing performance."
      ],
      "metadata": {
        "id": "Tw1Up3Vs4NWh"
      }
    },
    {
      "cell_type": "markdown",
      "source": [
        "22. What are some common use cases for Seaborn?\n",
        "\n",
        " - Creating statistical visualizations like box plots, violin plots, and pair plots.\n",
        "\n",
        "     Visualizing distributions with histograms, KDE plots, and rug plots.\n",
        "\n",
        "     Plotting categorical data with bar plots, count plots, and point plots.\n",
        "\n",
        "     Generating correlation matrices and heatmaps.\n",
        "\n",
        "     Enhancing visualizations with built-in themes and color palettes.\n"
      ],
      "metadata": {
        "id": "f7847Z_o4QZC"
      }
    },
    {
      "cell_type": "markdown",
      "source": [
        "#Practical"
      ],
      "metadata": {
        "id": "RTHiZ9lP4VhB"
      }
    },
    {
      "cell_type": "markdown",
      "source": [
        "1. How do you create a 2D NumPy array and calculate the sum of each row?"
      ],
      "metadata": {
        "id": "Mj3K8FsJ4YR6"
      }
    },
    {
      "cell_type": "code",
      "source": [
        "'''\n",
        "import numpy as np\n",
        "\n",
        "# Create a 2D NumPy array\n",
        "array_2d = np.array([[1, 2, 3], [4, 5, 6], [7, 8, 9]])\n",
        "\n",
        "# Calculate the sum of each row\n",
        "row_sums = np.sum(array_2d, axis=1)\n",
        "print(row_sums)\n",
        "'''"
      ],
      "metadata": {
        "id": "xDb8CkVN4-cS"
      },
      "execution_count": null,
      "outputs": []
    },
    {
      "cell_type": "markdown",
      "source": [
        "2. Write a Pandas script to find the mean of a specific column in a DataFrame."
      ],
      "metadata": {
        "id": "h5FHBc7H5Eti"
      }
    },
    {
      "cell_type": "code",
      "source": [
        "'''\n",
        "import pandas as pd\n",
        "\n",
        "# Sample DataFrame\n",
        "data = {'A': [1, 2, 3, 4, 5], 'B': [10, 20, 30, 40, 50]}\n",
        "df = pd.DataFrame(data)\n",
        "\n",
        "# Calculate the mean of column 'B'\n",
        "mean_B = df['B'].mean()\n",
        "print(mean_B)\n",
        "'''"
      ],
      "metadata": {
        "id": "4V9v4SRK5KX5"
      },
      "execution_count": null,
      "outputs": []
    },
    {
      "cell_type": "markdown",
      "source": [
        "3. Create a scatter plot using Matplotlib."
      ],
      "metadata": {
        "id": "zS5tJVS95Pkx"
      }
    },
    {
      "cell_type": "code",
      "source": [
        "'''\n",
        "import matplotlib.pyplot as plt\n",
        "\n",
        "# Sample data\n",
        "x = [1, 2, 3, 4, 5]\n",
        "y = [10, 20, 25, 30, 35]\n",
        "\n",
        "# Create scatter plot\n",
        "plt.scatter(x, y)\n",
        "plt.xlabel('X-axis')\n",
        "plt.ylabel('Y-axis')\n",
        "plt.title('Scatter Plot')\n",
        "plt.show()\n",
        "'''"
      ],
      "metadata": {
        "id": "1aX6brvN5U_y"
      },
      "execution_count": null,
      "outputs": []
    },
    {
      "cell_type": "markdown",
      "source": [
        "4. How do you calculate the correlation matrix using Seaborn and visualize it with a heatmap?"
      ],
      "metadata": {
        "id": "SkRhmW445Yhp"
      }
    },
    {
      "cell_type": "code",
      "source": [
        "'''\n",
        "import seaborn as sns\n",
        "import pandas as pd\n",
        "\n",
        "# Sample DataFrame\n",
        "data = {'A': [1, 2, 3, 4, 5], 'B': [10, 20, 30, 40, 50], 'C': [5, 4, 3, 2, 1]}\n",
        "df = pd.DataFrame(data)\n",
        "\n",
        "# Calculate the correlation matrix\n",
        "corr_matrix = df.corr()\n",
        "\n",
        "# Visualize it with a heatmap\n",
        "sns.heatmap(corr_matrix, annot=True)\n",
        "plt.show()\n",
        "'''"
      ],
      "metadata": {
        "id": "03B68QpA5jGq"
      },
      "execution_count": null,
      "outputs": []
    },
    {
      "cell_type": "markdown",
      "source": [
        "5. Generate a bar plot using Plotly."
      ],
      "metadata": {
        "id": "mmQhTu6B5l4D"
      }
    },
    {
      "cell_type": "code",
      "source": [
        "'''\n",
        "import plotly.express as px\n",
        "\n",
        "# Sample data\n",
        "data = {'Category': ['A', 'B', 'C', 'D'], 'Values': [10, 20, 30, 40]}\n",
        "df = pd.DataFrame(data)\n",
        "\n",
        "# Create bar plot\n",
        "fig = px.bar(df, x='Category', y='Values', title='Bar Plot')\n",
        "fig.show()\n",
        "'''"
      ],
      "metadata": {
        "id": "RGRoZIp75qJK"
      },
      "execution_count": null,
      "outputs": []
    },
    {
      "cell_type": "markdown",
      "source": [
        "6. Create a DataFrame and add a new column based on an existing column."
      ],
      "metadata": {
        "id": "uEkgXC0g5t65"
      }
    },
    {
      "cell_type": "code",
      "source": [
        "'''\n",
        "import pandas as pd\n",
        "\n",
        "# Sample DataFrame\n",
        "data = {'A': [1, 2, 3, 4, 5]}\n",
        "df = pd.DataFrame(data)\n",
        "\n",
        "# Add a new column 'B' based on column 'A'\n",
        "df['B'] = df['A'] * 2\n",
        "print(df)\n",
        "'''"
      ],
      "metadata": {
        "id": "6MZ_-OJd517J"
      },
      "execution_count": null,
      "outputs": []
    },
    {
      "cell_type": "markdown",
      "source": [
        "7. Write a program to perform element-wise multiplication of two NumPy arrays."
      ],
      "metadata": {
        "id": "KFp-yO2Z55AJ"
      }
    },
    {
      "cell_type": "code",
      "source": [
        "'''\n",
        "import numpy as np\n",
        "\n",
        "# Sample arrays\n",
        "array1 = np.array([1, 2, 3])\n",
        "array2 = np.array([4, 5, 6])\n",
        "\n",
        "# Element-wise multiplication\n",
        "result = np.multiply(array1, array2)\n",
        "print(result)\n",
        "'''"
      ],
      "metadata": {
        "id": "boGl3fNp5-LK"
      },
      "execution_count": null,
      "outputs": []
    },
    {
      "cell_type": "markdown",
      "source": [
        "8. Create a line plot with multiple lines using Matplotlib."
      ],
      "metadata": {
        "id": "pkAhqVfM6CUJ"
      }
    },
    {
      "cell_type": "code",
      "source": [
        "'''\n",
        "import matplotlib.pyplot as plt\n",
        "\n",
        "# Sample data\n",
        "x = [1, 2, 3, 4, 5]\n",
        "y1 = [10, 20, 25, 30, 35]\n",
        "y2 = [15, 25, 20, 35, 45]\n",
        "\n",
        "# Create line plots\n",
        "plt.plot(x, y1, label='Line 1')\n",
        "plt.plot(x, y2, label='Line 2')\n",
        "plt.xlabel('X-axis')\n",
        "plt.ylabel('Y-axis')\n",
        "plt.title('Line Plot with Multiple Lines')\n",
        "plt.legend()\n",
        "plt.show()\n",
        "'''"
      ],
      "metadata": {
        "id": "uwAkdrED6Hia"
      },
      "execution_count": null,
      "outputs": []
    },
    {
      "cell_type": "markdown",
      "source": [
        "9. Generate a Pandas DataFrame and filter rows where a column value is greater than a threshold."
      ],
      "metadata": {
        "id": "AqBx7wLg6NHS"
      }
    },
    {
      "cell_type": "code",
      "source": [
        "'''\n",
        "import pandas as pd\n",
        "\n",
        "# Sample DataFrame\n",
        "data = {'A': [1, 2, 3, 4, 5], 'B': [10, 20, 30, 40, 50]}\n",
        "df = pd.DataFrame(data)\n",
        "\n",
        "# Filter rows where column 'B' is greater than 25\n",
        "filtered_df = df[df['B'] > 25]\n",
        "print(filtered_df)\n",
        "'''"
      ],
      "metadata": {
        "id": "eDKaKCZa6Umx"
      },
      "execution_count": null,
      "outputs": []
    },
    {
      "cell_type": "markdown",
      "source": [
        "10. Create a histogram using Seaborn to visualize a distribution."
      ],
      "metadata": {
        "id": "A6lYBg0C6Xl5"
      }
    },
    {
      "cell_type": "code",
      "source": [
        "'''\n",
        "import seaborn as sns\n",
        "import matplotlib.pyplot as plt\n",
        "\n",
        "# Sample data\n",
        "data = [1, 2, 2, 3, 3, 3, 4, 4, 5]\n",
        "\n",
        "# Create histogram\n",
        "sns.histplot(data, bins=5, kde=True)\n",
        "plt.xlabel('Values')\n",
        "plt.ylabel('Frequency')\n",
        "plt.title('Histogram')\n",
        "plt.show()\n",
        "'''"
      ],
      "metadata": {
        "id": "w93I2JMj6bMD"
      },
      "execution_count": null,
      "outputs": []
    },
    {
      "cell_type": "markdown",
      "source": [
        "11. Perform matrix multiplication using NumPy."
      ],
      "metadata": {
        "id": "Jnzrecj26d_J"
      }
    },
    {
      "cell_type": "code",
      "source": [
        "'''\n",
        "import numpy as np\n",
        "\n",
        "# Sample matrices\n",
        "matrix1 = np.array([[1, 2], [3, 4]])\n",
        "matrix2 = np.array([[5, 6], [7, 8]])\n",
        "\n",
        "# Matrix multiplication\n",
        "result = np.dot(matrix1, matrix2)\n",
        "print(result)\n",
        "'''"
      ],
      "metadata": {
        "id": "FGO9U29N6iqR"
      },
      "execution_count": null,
      "outputs": []
    },
    {
      "cell_type": "markdown",
      "source": [
        "12. Use Pandas to load a CSV file and display its first 5 rows."
      ],
      "metadata": {
        "id": "60QsPHk_6m35"
      }
    },
    {
      "cell_type": "code",
      "source": [
        "'''\n",
        "import pandas as pd\n",
        "\n",
        "# Load CSV file\n",
        "df = pd.read_csv('sample.csv')\n",
        "\n",
        "# Display the first 5 rows\n",
        "print(df.head())\n",
        "'''"
      ],
      "metadata": {
        "id": "48tpsgz76qzJ"
      },
      "execution_count": null,
      "outputs": []
    },
    {
      "cell_type": "markdown",
      "source": [
        "13. Create a 3D scatter plot using Plotly."
      ],
      "metadata": {
        "id": "WYk-Rnz16wdj"
      }
    },
    {
      "cell_type": "code",
      "source": [
        "'''\n",
        "import plotly.express as px\n",
        "\n",
        "# Sample data\n",
        "data = {'X': [1, 2, 3, 4, 5], 'Y': [10, 20, 30, 40, 50], 'Z': [5, 4, 3, 2, 1]}\n",
        "df = pd.DataFrame(data)\n",
        "\n",
        "# Create 3D scatter plot\n",
        "fig = px.scatter_3d(df, x='X', y='Y', z='Z', title='3D Scatter Plot')\n",
        "fig.show()\n",
        "'''"
      ],
      "metadata": {
        "id": "ab4Db6vU615h"
      },
      "execution_count": null,
      "outputs": []
    }
  ]
}